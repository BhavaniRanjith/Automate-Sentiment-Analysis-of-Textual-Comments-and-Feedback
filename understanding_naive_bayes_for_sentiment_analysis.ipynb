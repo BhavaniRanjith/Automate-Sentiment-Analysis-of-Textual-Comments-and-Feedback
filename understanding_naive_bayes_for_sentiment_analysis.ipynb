{
  "cells": [
    {
      "cell_type": "markdown",
      "metadata": {
        "id": "view-in-github",
        "colab_type": "text"
      },
      "source": [
        "<a href=\"https://colab.research.google.com/github/BhavaniRanjith/Automate-Sentiment-Analysis-of-Textual-Comments-and-Feedback/blob/main/understanding_naive_bayes_for_sentiment_analysis.ipynb\" target=\"_parent\"><img src=\"https://colab.research.google.com/assets/colab-badge.svg\" alt=\"Open In Colab\"/></a>"
      ]
    },
    {
      "cell_type": "markdown",
      "id": "e6816e81",
      "metadata": {
        "papermill": {
          "duration": 0.01218,
          "end_time": "2023-04-04T02:42:41.290394",
          "exception": false,
          "start_time": "2023-04-04T02:42:41.278214",
          "status": "completed"
        },
        "tags": [],
        "id": "e6816e81"
      },
      "source": [
        "# Naive Bayes for US Airline Sentiment Analysis\n",
        "\n",
        "Understanding how to implement Naive Bayes from scratch to predict the sentiment of tweets regarding US Airlines.\n",
        "\n",
        "In order to predict the sentiment of tweets about US Airlines using Naive Bayes, it's necessary to understand how to implement the algorithm from scratch. This involves training a machine learning model on a labeled dataset of tweets, and using Bayes' theorem to calculate the probability of each tweet belonging to a particular sentiment category. By understanding the underlying mechanics of Naive Bayes, it's possible to create a customized implementation that is tailored to the specific needs of the application. With this knowledge, it becomes possible to accurately predict the sentiment of tweets about US Airlines and gain valuable insights into customer opinion and feedback."
      ]
    },
    {
      "cell_type": "markdown",
      "id": "ee7326a6",
      "metadata": {
        "papermill": {
          "duration": 0.010364,
          "end_time": "2023-04-04T02:42:41.311648",
          "exception": false,
          "start_time": "2023-04-04T02:42:41.301284",
          "status": "completed"
        },
        "tags": [],
        "id": "ee7326a6"
      },
      "source": [
        "## Import Libraries and Data"
      ]
    },
    {
      "cell_type": "code",
      "source": [
        "from google.colab import drive\n",
        "drive.mount('/content/drive')"
      ],
      "metadata": {
        "colab": {
          "base_uri": "https://localhost:8080/"
        },
        "id": "2gvRvxiK2lt7",
        "outputId": "207bd18f-ecb3-4390-9a9e-41f6df3388e0"
      },
      "id": "2gvRvxiK2lt7",
      "execution_count": null,
      "outputs": [
        {
          "output_type": "stream",
          "name": "stdout",
          "text": [
            "Mounted at /content/drive\n"
          ]
        }
      ]
    },
    {
      "cell_type": "code",
      "source": [
        "import nltk\n",
        "nltk.download(\"stopwords\")"
      ],
      "metadata": {
        "colab": {
          "base_uri": "https://localhost:8080/"
        },
        "id": "QjyY79lrOXv0",
        "outputId": "e9a44fa8-331b-4fc0-8fd0-fcf62960139c"
      },
      "id": "QjyY79lrOXv0",
      "execution_count": null,
      "outputs": [
        {
          "output_type": "stream",
          "name": "stderr",
          "text": [
            "[nltk_data] Downloading package stopwords to /root/nltk_data...\n",
            "[nltk_data]   Unzipping corpora/stopwords.zip.\n"
          ]
        },
        {
          "output_type": "execute_result",
          "data": {
            "text/plain": [
              "True"
            ]
          },
          "metadata": {},
          "execution_count": 2
        }
      ]
    },
    {
      "cell_type": "code",
      "execution_count": null,
      "id": "216fca31",
      "metadata": {
        "_cell_guid": "b1076dfc-b9ad-4769-8c92-a6c4dae69d19",
        "_uuid": "8f2839f25d086af736a60e9eeb907d3b93b6e0e5",
        "execution": {
          "iopub.execute_input": "2023-04-04T02:42:41.335938Z",
          "iopub.status.busy": "2023-04-04T02:42:41.335546Z",
          "iopub.status.idle": "2023-04-04T02:42:42.964797Z",
          "shell.execute_reply": "2023-04-04T02:42:42.963075Z"
        },
        "papermill": {
          "duration": 1.64484,
          "end_time": "2023-04-04T02:42:42.967723",
          "exception": false,
          "start_time": "2023-04-04T02:42:41.322883",
          "status": "completed"
        },
        "tags": [],
        "id": "216fca31"
      },
      "outputs": [],
      "source": [
        "%matplotlib inline\n",
        "\n",
        "import nltk\n",
        "import numpy as np\n",
        "import pandas as pd\n",
        "import re\n",
        "import string\n",
        "import os\n",
        "import matplotlib.pyplot as plt\n",
        "\n",
        "from nltk.corpus import stopwords\n",
        "STOPWORDS = set(stopwords.words('english'))\n",
        "from nltk.stem import PorterStemmer\n",
        "from nltk.tokenize import TweetTokenizer\n"
      ]
    },
    {
      "cell_type": "code",
      "execution_count": null,
      "id": "744bc93d",
      "metadata": {
        "execution": {
          "iopub.execute_input": "2023-04-04T02:42:42.991219Z",
          "iopub.status.busy": "2023-04-04T02:42:42.990783Z",
          "iopub.status.idle": "2023-04-04T02:42:43.135403Z",
          "shell.execute_reply": "2023-04-04T02:42:43.134385Z"
        },
        "papermill": {
          "duration": 0.160039,
          "end_time": "2023-04-04T02:42:43.138526",
          "exception": false,
          "start_time": "2023-04-04T02:42:42.978487",
          "status": "completed"
        },
        "tags": [],
        "id": "744bc93d"
      },
      "outputs": [],
      "source": [
        "# Load data\n",
        "#data_set=pd.DataFrame()\n",
        "#for file in os.listdir(os.getcwd()):\n",
        "    #if file.endswith('.asc'):\n",
        "             #data_set = data_set.append(pd.read_table(file, header=None, delim_whitespace=True))\n",
        "\n",
        "\n",
        "#data = data_set.to_csv('Tweets.csv',index=False)\n",
        "data = pd.read_csv('/content/drive/MyDrive/Colab Notebooks/Sentiment Analysis/Tweets.csv')"
      ]
    },
    {
      "cell_type": "code",
      "execution_count": null,
      "id": "35b66d31",
      "metadata": {
        "execution": {
          "iopub.execute_input": "2023-04-04T02:42:43.162956Z",
          "iopub.status.busy": "2023-04-04T02:42:43.162529Z",
          "iopub.status.idle": "2023-04-04T02:42:43.197939Z",
          "shell.execute_reply": "2023-04-04T02:42:43.196795Z"
        },
        "papermill": {
          "duration": 0.051245,
          "end_time": "2023-04-04T02:42:43.201402",
          "exception": false,
          "start_time": "2023-04-04T02:42:43.150157",
          "status": "completed"
        },
        "tags": [],
        "colab": {
          "base_uri": "https://localhost:8080/",
          "height": 495
        },
        "id": "35b66d31",
        "outputId": "5a9fe3d5-6714-4c2c-c37a-e3d3229f0723"
      },
      "outputs": [
        {
          "output_type": "execute_result",
          "data": {
            "text/plain": [
              "             tweet_id airline_sentiment  airline_sentiment_confidence  \\\n",
              "0  570306133677760513           neutral                        1.0000   \n",
              "1  570301130888122368          positive                        0.3486   \n",
              "2  570301083672813571           neutral                        0.6837   \n",
              "3  570301031407624196          negative                        1.0000   \n",
              "4  570300817074462722          negative                        1.0000   \n",
              "\n",
              "  negativereason  negativereason_confidence         airline  \\\n",
              "0            NaN                        NaN  Virgin America   \n",
              "1            NaN                     0.0000  Virgin America   \n",
              "2            NaN                        NaN  Virgin America   \n",
              "3     Bad Flight                     0.7033  Virgin America   \n",
              "4     Can't Tell                     1.0000  Virgin America   \n",
              "\n",
              "  airline_sentiment_gold        name negativereason_gold  retweet_count  \\\n",
              "0                    NaN     cairdin                 NaN              0   \n",
              "1                    NaN    jnardino                 NaN              0   \n",
              "2                    NaN  yvonnalynn                 NaN              0   \n",
              "3                    NaN    jnardino                 NaN              0   \n",
              "4                    NaN    jnardino                 NaN              0   \n",
              "\n",
              "                                                text tweet_coord  \\\n",
              "0                @VirginAmerica What @dhepburn said.         NaN   \n",
              "1  @VirginAmerica plus you've added commercials t...         NaN   \n",
              "2  @VirginAmerica I didn't today... Must mean I n...         NaN   \n",
              "3  @VirginAmerica it's really aggressive to blast...         NaN   \n",
              "4  @VirginAmerica and it's a really big bad thing...         NaN   \n",
              "\n",
              "               tweet_created tweet_location               user_timezone  \n",
              "0  2015-02-24 11:35:52 -0800            NaN  Eastern Time (US & Canada)  \n",
              "1  2015-02-24 11:15:59 -0800            NaN  Pacific Time (US & Canada)  \n",
              "2  2015-02-24 11:15:48 -0800      Lets Play  Central Time (US & Canada)  \n",
              "3  2015-02-24 11:15:36 -0800            NaN  Pacific Time (US & Canada)  \n",
              "4  2015-02-24 11:14:45 -0800            NaN  Pacific Time (US & Canada)  "
            ],
            "text/html": [
              "\n",
              "\n",
              "  <div id=\"df-55c6d419-1ff8-4e5a-b81e-d4922f206a75\">\n",
              "    <div class=\"colab-df-container\">\n",
              "      <div>\n",
              "<style scoped>\n",
              "    .dataframe tbody tr th:only-of-type {\n",
              "        vertical-align: middle;\n",
              "    }\n",
              "\n",
              "    .dataframe tbody tr th {\n",
              "        vertical-align: top;\n",
              "    }\n",
              "\n",
              "    .dataframe thead th {\n",
              "        text-align: right;\n",
              "    }\n",
              "</style>\n",
              "<table border=\"1\" class=\"dataframe\">\n",
              "  <thead>\n",
              "    <tr style=\"text-align: right;\">\n",
              "      <th></th>\n",
              "      <th>tweet_id</th>\n",
              "      <th>airline_sentiment</th>\n",
              "      <th>airline_sentiment_confidence</th>\n",
              "      <th>negativereason</th>\n",
              "      <th>negativereason_confidence</th>\n",
              "      <th>airline</th>\n",
              "      <th>airline_sentiment_gold</th>\n",
              "      <th>name</th>\n",
              "      <th>negativereason_gold</th>\n",
              "      <th>retweet_count</th>\n",
              "      <th>text</th>\n",
              "      <th>tweet_coord</th>\n",
              "      <th>tweet_created</th>\n",
              "      <th>tweet_location</th>\n",
              "      <th>user_timezone</th>\n",
              "    </tr>\n",
              "  </thead>\n",
              "  <tbody>\n",
              "    <tr>\n",
              "      <th>0</th>\n",
              "      <td>570306133677760513</td>\n",
              "      <td>neutral</td>\n",
              "      <td>1.0000</td>\n",
              "      <td>NaN</td>\n",
              "      <td>NaN</td>\n",
              "      <td>Virgin America</td>\n",
              "      <td>NaN</td>\n",
              "      <td>cairdin</td>\n",
              "      <td>NaN</td>\n",
              "      <td>0</td>\n",
              "      <td>@VirginAmerica What @dhepburn said.</td>\n",
              "      <td>NaN</td>\n",
              "      <td>2015-02-24 11:35:52 -0800</td>\n",
              "      <td>NaN</td>\n",
              "      <td>Eastern Time (US &amp; Canada)</td>\n",
              "    </tr>\n",
              "    <tr>\n",
              "      <th>1</th>\n",
              "      <td>570301130888122368</td>\n",
              "      <td>positive</td>\n",
              "      <td>0.3486</td>\n",
              "      <td>NaN</td>\n",
              "      <td>0.0000</td>\n",
              "      <td>Virgin America</td>\n",
              "      <td>NaN</td>\n",
              "      <td>jnardino</td>\n",
              "      <td>NaN</td>\n",
              "      <td>0</td>\n",
              "      <td>@VirginAmerica plus you've added commercials t...</td>\n",
              "      <td>NaN</td>\n",
              "      <td>2015-02-24 11:15:59 -0800</td>\n",
              "      <td>NaN</td>\n",
              "      <td>Pacific Time (US &amp; Canada)</td>\n",
              "    </tr>\n",
              "    <tr>\n",
              "      <th>2</th>\n",
              "      <td>570301083672813571</td>\n",
              "      <td>neutral</td>\n",
              "      <td>0.6837</td>\n",
              "      <td>NaN</td>\n",
              "      <td>NaN</td>\n",
              "      <td>Virgin America</td>\n",
              "      <td>NaN</td>\n",
              "      <td>yvonnalynn</td>\n",
              "      <td>NaN</td>\n",
              "      <td>0</td>\n",
              "      <td>@VirginAmerica I didn't today... Must mean I n...</td>\n",
              "      <td>NaN</td>\n",
              "      <td>2015-02-24 11:15:48 -0800</td>\n",
              "      <td>Lets Play</td>\n",
              "      <td>Central Time (US &amp; Canada)</td>\n",
              "    </tr>\n",
              "    <tr>\n",
              "      <th>3</th>\n",
              "      <td>570301031407624196</td>\n",
              "      <td>negative</td>\n",
              "      <td>1.0000</td>\n",
              "      <td>Bad Flight</td>\n",
              "      <td>0.7033</td>\n",
              "      <td>Virgin America</td>\n",
              "      <td>NaN</td>\n",
              "      <td>jnardino</td>\n",
              "      <td>NaN</td>\n",
              "      <td>0</td>\n",
              "      <td>@VirginAmerica it's really aggressive to blast...</td>\n",
              "      <td>NaN</td>\n",
              "      <td>2015-02-24 11:15:36 -0800</td>\n",
              "      <td>NaN</td>\n",
              "      <td>Pacific Time (US &amp; Canada)</td>\n",
              "    </tr>\n",
              "    <tr>\n",
              "      <th>4</th>\n",
              "      <td>570300817074462722</td>\n",
              "      <td>negative</td>\n",
              "      <td>1.0000</td>\n",
              "      <td>Can't Tell</td>\n",
              "      <td>1.0000</td>\n",
              "      <td>Virgin America</td>\n",
              "      <td>NaN</td>\n",
              "      <td>jnardino</td>\n",
              "      <td>NaN</td>\n",
              "      <td>0</td>\n",
              "      <td>@VirginAmerica and it's a really big bad thing...</td>\n",
              "      <td>NaN</td>\n",
              "      <td>2015-02-24 11:14:45 -0800</td>\n",
              "      <td>NaN</td>\n",
              "      <td>Pacific Time (US &amp; Canada)</td>\n",
              "    </tr>\n",
              "  </tbody>\n",
              "</table>\n",
              "</div>\n",
              "      <button class=\"colab-df-convert\" onclick=\"convertToInteractive('df-55c6d419-1ff8-4e5a-b81e-d4922f206a75')\"\n",
              "              title=\"Convert this dataframe to an interactive table.\"\n",
              "              style=\"display:none;\">\n",
              "\n",
              "  <svg xmlns=\"http://www.w3.org/2000/svg\" height=\"24px\"viewBox=\"0 0 24 24\"\n",
              "       width=\"24px\">\n",
              "    <path d=\"M0 0h24v24H0V0z\" fill=\"none\"/>\n",
              "    <path d=\"M18.56 5.44l.94 2.06.94-2.06 2.06-.94-2.06-.94-.94-2.06-.94 2.06-2.06.94zm-11 1L8.5 8.5l.94-2.06 2.06-.94-2.06-.94L8.5 2.5l-.94 2.06-2.06.94zm10 10l.94 2.06.94-2.06 2.06-.94-2.06-.94-.94-2.06-.94 2.06-2.06.94z\"/><path d=\"M17.41 7.96l-1.37-1.37c-.4-.4-.92-.59-1.43-.59-.52 0-1.04.2-1.43.59L10.3 9.45l-7.72 7.72c-.78.78-.78 2.05 0 2.83L4 21.41c.39.39.9.59 1.41.59.51 0 1.02-.2 1.41-.59l7.78-7.78 2.81-2.81c.8-.78.8-2.07 0-2.86zM5.41 20L4 18.59l7.72-7.72 1.47 1.35L5.41 20z\"/>\n",
              "  </svg>\n",
              "      </button>\n",
              "\n",
              "\n",
              "\n",
              "    <div id=\"df-72f1d233-c9b5-44f7-8d55-fd2872431404\">\n",
              "      <button class=\"colab-df-quickchart\" onclick=\"quickchart('df-72f1d233-c9b5-44f7-8d55-fd2872431404')\"\n",
              "              title=\"Suggest charts.\"\n",
              "              style=\"display:none;\">\n",
              "\n",
              "<svg xmlns=\"http://www.w3.org/2000/svg\" height=\"24px\"viewBox=\"0 0 24 24\"\n",
              "     width=\"24px\">\n",
              "    <g>\n",
              "        <path d=\"M19 3H5c-1.1 0-2 .9-2 2v14c0 1.1.9 2 2 2h14c1.1 0 2-.9 2-2V5c0-1.1-.9-2-2-2zM9 17H7v-7h2v7zm4 0h-2V7h2v10zm4 0h-2v-4h2v4z\"/>\n",
              "    </g>\n",
              "</svg>\n",
              "      </button>\n",
              "    </div>\n",
              "\n",
              "<style>\n",
              "  .colab-df-quickchart {\n",
              "    background-color: #E8F0FE;\n",
              "    border: none;\n",
              "    border-radius: 50%;\n",
              "    cursor: pointer;\n",
              "    display: none;\n",
              "    fill: #1967D2;\n",
              "    height: 32px;\n",
              "    padding: 0 0 0 0;\n",
              "    width: 32px;\n",
              "  }\n",
              "\n",
              "  .colab-df-quickchart:hover {\n",
              "    background-color: #E2EBFA;\n",
              "    box-shadow: 0px 1px 2px rgba(60, 64, 67, 0.3), 0px 1px 3px 1px rgba(60, 64, 67, 0.15);\n",
              "    fill: #174EA6;\n",
              "  }\n",
              "\n",
              "  [theme=dark] .colab-df-quickchart {\n",
              "    background-color: #3B4455;\n",
              "    fill: #D2E3FC;\n",
              "  }\n",
              "\n",
              "  [theme=dark] .colab-df-quickchart:hover {\n",
              "    background-color: #434B5C;\n",
              "    box-shadow: 0px 1px 3px 1px rgba(0, 0, 0, 0.15);\n",
              "    filter: drop-shadow(0px 1px 2px rgba(0, 0, 0, 0.3));\n",
              "    fill: #FFFFFF;\n",
              "  }\n",
              "</style>\n",
              "\n",
              "    <script>\n",
              "      async function quickchart(key) {\n",
              "        const containerElement = document.querySelector('#' + key);\n",
              "        const charts = await google.colab.kernel.invokeFunction(\n",
              "            'suggestCharts', [key], {});\n",
              "      }\n",
              "    </script>\n",
              "\n",
              "      <script>\n",
              "\n",
              "function displayQuickchartButton(domScope) {\n",
              "  let quickchartButtonEl =\n",
              "    domScope.querySelector('#df-72f1d233-c9b5-44f7-8d55-fd2872431404 button.colab-df-quickchart');\n",
              "  quickchartButtonEl.style.display =\n",
              "    google.colab.kernel.accessAllowed ? 'block' : 'none';\n",
              "}\n",
              "\n",
              "        displayQuickchartButton(document);\n",
              "      </script>\n",
              "      <style>\n",
              "    .colab-df-container {\n",
              "      display:flex;\n",
              "      flex-wrap:wrap;\n",
              "      gap: 12px;\n",
              "    }\n",
              "\n",
              "    .colab-df-convert {\n",
              "      background-color: #E8F0FE;\n",
              "      border: none;\n",
              "      border-radius: 50%;\n",
              "      cursor: pointer;\n",
              "      display: none;\n",
              "      fill: #1967D2;\n",
              "      height: 32px;\n",
              "      padding: 0 0 0 0;\n",
              "      width: 32px;\n",
              "    }\n",
              "\n",
              "    .colab-df-convert:hover {\n",
              "      background-color: #E2EBFA;\n",
              "      box-shadow: 0px 1px 2px rgba(60, 64, 67, 0.3), 0px 1px 3px 1px rgba(60, 64, 67, 0.15);\n",
              "      fill: #174EA6;\n",
              "    }\n",
              "\n",
              "    [theme=dark] .colab-df-convert {\n",
              "      background-color: #3B4455;\n",
              "      fill: #D2E3FC;\n",
              "    }\n",
              "\n",
              "    [theme=dark] .colab-df-convert:hover {\n",
              "      background-color: #434B5C;\n",
              "      box-shadow: 0px 1px 3px 1px rgba(0, 0, 0, 0.15);\n",
              "      filter: drop-shadow(0px 1px 2px rgba(0, 0, 0, 0.3));\n",
              "      fill: #FFFFFF;\n",
              "    }\n",
              "  </style>\n",
              "\n",
              "      <script>\n",
              "        const buttonEl =\n",
              "          document.querySelector('#df-55c6d419-1ff8-4e5a-b81e-d4922f206a75 button.colab-df-convert');\n",
              "        buttonEl.style.display =\n",
              "          google.colab.kernel.accessAllowed ? 'block' : 'none';\n",
              "\n",
              "        async function convertToInteractive(key) {\n",
              "          const element = document.querySelector('#df-55c6d419-1ff8-4e5a-b81e-d4922f206a75');\n",
              "          const dataTable =\n",
              "            await google.colab.kernel.invokeFunction('convertToInteractive',\n",
              "                                                     [key], {});\n",
              "          if (!dataTable) return;\n",
              "\n",
              "          const docLinkHtml = 'Like what you see? Visit the ' +\n",
              "            '<a target=\"_blank\" href=https://colab.research.google.com/notebooks/data_table.ipynb>data table notebook</a>'\n",
              "            + ' to learn more about interactive tables.';\n",
              "          element.innerHTML = '';\n",
              "          dataTable['output_type'] = 'display_data';\n",
              "          await google.colab.output.renderOutput(dataTable, element);\n",
              "          const docLink = document.createElement('div');\n",
              "          docLink.innerHTML = docLinkHtml;\n",
              "          element.appendChild(docLink);\n",
              "        }\n",
              "      </script>\n",
              "    </div>\n",
              "  </div>\n"
            ]
          },
          "metadata": {},
          "execution_count": 5
        }
      ],
      "source": [
        "data.head()"
      ]
    },
    {
      "cell_type": "code",
      "execution_count": null,
      "id": "b9444b33",
      "metadata": {
        "execution": {
          "iopub.execute_input": "2023-04-04T02:42:43.225620Z",
          "iopub.status.busy": "2023-04-04T02:42:43.224939Z",
          "iopub.status.idle": "2023-04-04T02:42:43.233217Z",
          "shell.execute_reply": "2023-04-04T02:42:43.231944Z"
        },
        "papermill": {
          "duration": 0.022992,
          "end_time": "2023-04-04T02:42:43.235634",
          "exception": false,
          "start_time": "2023-04-04T02:42:43.212642",
          "status": "completed"
        },
        "tags": [],
        "id": "b9444b33",
        "outputId": "ac2e3790-01f9-4a79-ced7-869e2ef88a21",
        "colab": {
          "base_uri": "https://localhost:8080/"
        }
      },
      "outputs": [
        {
          "output_type": "execute_result",
          "data": {
            "text/plain": [
              "Index(['tweet_id', 'airline_sentiment', 'airline_sentiment_confidence',\n",
              "       'negativereason', 'negativereason_confidence', 'airline',\n",
              "       'airline_sentiment_gold', 'name', 'negativereason_gold',\n",
              "       'retweet_count', 'text', 'tweet_coord', 'tweet_created',\n",
              "       'tweet_location', 'user_timezone'],\n",
              "      dtype='object')"
            ]
          },
          "metadata": {},
          "execution_count": 6
        }
      ],
      "source": [
        "data.columns"
      ]
    },
    {
      "cell_type": "markdown",
      "id": "5f448f78",
      "metadata": {
        "papermill": {
          "duration": 0.010821,
          "end_time": "2023-04-04T02:42:43.257540",
          "exception": false,
          "start_time": "2023-04-04T02:42:43.246719",
          "status": "completed"
        },
        "tags": [],
        "id": "5f448f78"
      },
      "source": [
        "## Data Exploration"
      ]
    },
    {
      "cell_type": "markdown",
      "id": "749d2782",
      "metadata": {
        "papermill": {
          "duration": 0.010701,
          "end_time": "2023-04-04T02:42:43.279458",
          "exception": false,
          "start_time": "2023-04-04T02:42:43.268757",
          "status": "completed"
        },
        "tags": [],
        "id": "749d2782"
      },
      "source": [
        "Analyze the number of tweets per sentiment:"
      ]
    },
    {
      "cell_type": "code",
      "execution_count": null,
      "id": "cff973a7",
      "metadata": {
        "execution": {
          "iopub.execute_input": "2023-04-04T02:42:43.303796Z",
          "iopub.status.busy": "2023-04-04T02:42:43.303402Z",
          "iopub.status.idle": "2023-04-04T02:42:43.586914Z",
          "shell.execute_reply": "2023-04-04T02:42:43.585649Z"
        },
        "papermill": {
          "duration": 0.298924,
          "end_time": "2023-04-04T02:42:43.589784",
          "exception": false,
          "start_time": "2023-04-04T02:42:43.290860",
          "status": "completed"
        },
        "tags": [],
        "id": "cff973a7",
        "outputId": "6e689fd2-2544-433b-8d6b-a998edf1e88f",
        "colab": {
          "base_uri": "https://localhost:8080/",
          "height": 519
        }
      },
      "outputs": [
        {
          "output_type": "display_data",
          "data": {
            "text/plain": [
              "<Figure size 640x480 with 1 Axes>"
            ],
            "image/png": "[encoded data removed]"
          },
          "metadata": {}
        }
      ],
      "source": [
        "counts = data['airline_sentiment'].value_counts()\n",
        "counts.plot(kind='bar')\n",
        "\n",
        "plt.title('Number of Tweets per Class')\n",
        "plt.xlabel('Sentiment Class')\n",
        "plt.ylabel('Number of Tweets')\n",
        "plt.show()"
      ]
    },
    {
      "cell_type": "markdown",
      "id": "8326666c",
      "metadata": {
        "papermill": {
          "duration": 0.011464,
          "end_time": "2023-04-04T02:42:43.613148",
          "exception": false,
          "start_time": "2023-04-04T02:42:43.601684",
          "status": "completed"
        },
        "tags": [],
        "id": "8326666c"
      },
      "source": [
        "From this plot we can see that the majority of the tweets fall under the negative class. We are going to balance the dataset before training the model because an unbalanced dataset can lead to inaccurate results."
      ]
    },
    {
      "cell_type": "markdown",
      "id": "6f5f34da",
      "metadata": {
        "papermill": {
          "duration": 0.011271,
          "end_time": "2023-04-04T02:42:43.636096",
          "exception": false,
          "start_time": "2023-04-04T02:42:43.624825",
          "status": "completed"
        },
        "tags": [],
        "id": "6f5f34da"
      },
      "source": [
        "Analyze the number of tweets for each sentiment category for each airline. With this plot it possible to understand how each airline is perceived by customers."
      ]
    },
    {
      "cell_type": "code",
      "execution_count": null,
      "id": "be2290ea",
      "metadata": {
        "execution": {
          "iopub.execute_input": "2023-04-04T02:42:43.661213Z",
          "iopub.status.busy": "2023-04-04T02:42:43.660747Z",
          "iopub.status.idle": "2023-04-04T02:42:43.963525Z",
          "shell.execute_reply": "2023-04-04T02:42:43.962375Z"
        },
        "papermill": {
          "duration": 0.319221,
          "end_time": "2023-04-04T02:42:43.966973",
          "exception": false,
          "start_time": "2023-04-04T02:42:43.647752",
          "status": "completed"
        },
        "tags": [],
        "id": "be2290ea",
        "outputId": "b30183a3-0b09-4915-b6d1-20ab967249d6",
        "colab": {
          "base_uri": "https://localhost:8080/",
          "height": 577
        }
      },
      "outputs": [
        {
          "output_type": "display_data",
          "data": {
            "text/plain": [
              "<Figure size 1000x2000 with 0 Axes>"
            ]
          },
          "metadata": {}
        },
        {
          "output_type": "display_data",
          "data": {
            "text/plain": [
              "<Figure size 640x480 with 1 Axes>"
            ],
            "image/png": "[encoded data removed]"
          },
          "metadata": {}
        }
      ],
      "source": [
        "grouped = data.groupby(['airline', 'airline_sentiment']).size().unstack()\n",
        "\n",
        "fig = plt.figure(figsize = (10,20))\n",
        "grouped.plot(kind='bar', stacked=True)\n",
        "plt.title('Airline Sentiment by Airline')\n",
        "plt.xlabel('Airline')\n",
        "plt.ylabel('Number of Tweets')\n",
        "plt.show()"
      ]
    },
    {
      "cell_type": "markdown",
      "id": "d5c56ede",
      "metadata": {
        "papermill": {
          "duration": 0.011978,
          "end_time": "2023-04-04T02:42:43.991545",
          "exception": false,
          "start_time": "2023-04-04T02:42:43.979567",
          "status": "completed"
        },
        "tags": [],
        "id": "d5c56ede"
      },
      "source": [
        "From this stacked bar chart, we can see the following:\n",
        "\n",
        "* `United` has the most number of tweets directed at them.\n",
        "* `Virgin America` has the least number of tweets directed at them.\n",
        "* A large majority of tweets for `American`, `US Airways`, and `United` have negative sentiment.\n",
        "* `Virgin America`, `Delta`, and `Southwest` are more balanced when it comes to sentiment of tweets.\n"
      ]
    },
    {
      "cell_type": "markdown",
      "id": "82d747a1",
      "metadata": {
        "papermill": {
          "duration": 0.011953,
          "end_time": "2023-04-04T02:42:44.016079",
          "exception": false,
          "start_time": "2023-04-04T02:42:44.004126",
          "status": "completed"
        },
        "tags": [],
        "id": "82d747a1"
      },
      "source": [
        "Another way to analyze the reasons behind negative sentiment tweets is by using a pie chart. This type of chart can help us identify if the majority of negative tweets are due to a specific reason. By visually representing the data, we can quickly extract useful insights and gain a better understanding of the overall sentiment towards the airline."
      ]
    },
    {
      "cell_type": "code",
      "execution_count": null,
      "id": "f5430c2c",
      "metadata": {
        "execution": {
          "iopub.execute_input": "2023-04-04T02:42:44.043317Z",
          "iopub.status.busy": "2023-04-04T02:42:44.042238Z",
          "iopub.status.idle": "2023-04-04T02:42:44.253928Z",
          "shell.execute_reply": "2023-04-04T02:42:44.251190Z"
        },
        "papermill": {
          "duration": 0.230952,
          "end_time": "2023-04-04T02:42:44.259499",
          "exception": false,
          "start_time": "2023-04-04T02:42:44.028547",
          "status": "completed"
        },
        "tags": [],
        "id": "f5430c2c",
        "outputId": "16b92402-de40-43d4-9169-a568b40ec782",
        "colab": {
          "base_uri": "https://localhost:8080/",
          "height": 428
        }
      },
      "outputs": [
        {
          "output_type": "display_data",
          "data": {
            "text/plain": [
              "<Figure size 640x480 with 1 Axes>"
            ],
            "image/png": "[encoded data removed]"
          },
          "metadata": {}
        }
      ],
      "source": [
        "neg_reason_counts = data['negativereason'].value_counts()\n",
        "\n",
        "plt.pie(neg_reason_counts, labels=neg_reason_counts.index)\n",
        "plt.title('Negative Reasons for Tweets')\n",
        "plt.show()"
      ]
    },
    {
      "cell_type": "markdown",
      "id": "b501c95c",
      "metadata": {
        "papermill": {
          "duration": 0.012717,
          "end_time": "2023-04-04T02:42:44.290326",
          "exception": false,
          "start_time": "2023-04-04T02:42:44.277609",
          "status": "completed"
        },
        "tags": [],
        "id": "b501c95c"
      },
      "source": [
        "Based on the information presented in the pie chart, it is evident that the most common reason for negative tweets is related to customer service issues."
      ]
    },
    {
      "cell_type": "markdown",
      "id": "92bd2fa5",
      "metadata": {
        "papermill": {
          "duration": 0.012741,
          "end_time": "2023-04-04T02:42:44.316280",
          "exception": false,
          "start_time": "2023-04-04T02:42:44.303539",
          "status": "completed"
        },
        "tags": [],
        "id": "92bd2fa5"
      },
      "source": [
        "## Data Preparation\n",
        "\n",
        "Balance the dataset and split the data into training and test sets. 80% will be used for training and 20% will be used for testing. For our case we will not be including `neutral` sentiment just to make the task easier and understand Naive Bayes."
      ]
    },
    {
      "cell_type": "code",
      "execution_count": null,
      "id": "293ced30",
      "metadata": {
        "execution": {
          "iopub.execute_input": "2023-04-04T02:42:44.344246Z",
          "iopub.status.busy": "2023-04-04T02:42:44.343852Z",
          "iopub.status.idle": "2023-04-04T02:42:44.369158Z",
          "shell.execute_reply": "2023-04-04T02:42:44.367812Z"
        },
        "papermill": {
          "duration": 0.042489,
          "end_time": "2023-04-04T02:42:44.371938",
          "exception": false,
          "start_time": "2023-04-04T02:42:44.329449",
          "status": "completed"
        },
        "tags": [],
        "id": "293ced30"
      },
      "outputs": [],
      "source": [
        "# Separate negative and positive sentiment tweets\n",
        "neg_data = data[data['airline_sentiment'] == 'negative']\n",
        "pos_data = data[data['airline_sentiment'] == 'positive']\n",
        "\n",
        "# Sample an equal number of negative and positive tweets\n",
        "num_samples = min(len(neg_data), len(pos_data))\n",
        "neg_data = neg_data.sample(n=num_samples, random_state=42)\n",
        "pos_data = pos_data.sample(n=num_samples, random_state=42)\n",
        "\n",
        "# Concatenate the negative and positive sentiment tweets\n",
        "balanced_data = pd.concat([neg_data, pos_data])\n",
        "\n",
        "# Shuffle the rows\n",
        "balanced_data = balanced_data.sample(frac=1, random_state=42)"
      ]
    },
    {
      "cell_type": "code",
      "execution_count": null,
      "id": "2428b849",
      "metadata": {
        "execution": {
          "iopub.execute_input": "2023-04-04T02:42:44.400872Z",
          "iopub.status.busy": "2023-04-04T02:42:44.400421Z",
          "iopub.status.idle": "2023-04-04T02:42:44.604528Z",
          "shell.execute_reply": "2023-04-04T02:42:44.603285Z"
        },
        "papermill": {
          "duration": 0.221234,
          "end_time": "2023-04-04T02:42:44.606981",
          "exception": false,
          "start_time": "2023-04-04T02:42:44.385747",
          "status": "completed"
        },
        "tags": [],
        "id": "2428b849",
        "outputId": "b29abb3a-1da8-47a9-862d-b2f3b0f60fc2",
        "colab": {
          "base_uri": "https://localhost:8080/",
          "height": 519
        }
      },
      "outputs": [
        {
          "output_type": "display_data",
          "data": {
            "text/plain": [
              "<Figure size 640x480 with 1 Axes>"
            ],
            "image/png": "[encoded data removed]"
          },
          "metadata": {}
        }
      ],
      "source": [
        "counts = balanced_data['airline_sentiment'].value_counts()\n",
        "counts.plot(kind='bar')\n",
        "\n",
        "plt.title('Number of Tweets per Class')\n",
        "plt.xlabel('Sentiment Class')\n",
        "plt.ylabel('Number of Tweets')\n",
        "plt.show()"
      ]
    },
    {
      "cell_type": "code",
      "execution_count": null,
      "id": "f57a3f0d",
      "metadata": {
        "execution": {
          "iopub.execute_input": "2023-04-04T02:42:44.637477Z",
          "iopub.status.busy": "2023-04-04T02:42:44.636532Z",
          "iopub.status.idle": "2023-04-04T02:42:44.644053Z",
          "shell.execute_reply": "2023-04-04T02:42:44.642338Z"
        },
        "papermill": {
          "duration": 0.025853,
          "end_time": "2023-04-04T02:42:44.646946",
          "exception": false,
          "start_time": "2023-04-04T02:42:44.621093",
          "status": "completed"
        },
        "tags": [],
        "id": "f57a3f0d",
        "outputId": "33c71a1d-8f22-4e15-dace-a0da8190d990",
        "colab": {
          "base_uri": "https://localhost:8080/"
        }
      },
      "outputs": [
        {
          "output_type": "stream",
          "name": "stdout",
          "text": [
            "Number of positive sentiment tweets: 2363\n",
            "Number of negative sentiment tweets: 2363\n"
          ]
        }
      ],
      "source": [
        "print('Number of positive sentiment tweets: {}'.format(len(pos_data)))\n",
        "print('Number of negative sentiment tweets: {}'.format(len(neg_data)))"
      ]
    },
    {
      "cell_type": "markdown",
      "id": "2bd95f99",
      "metadata": {
        "papermill": {
          "duration": 0.013089,
          "end_time": "2023-04-04T02:42:44.673651",
          "exception": false,
          "start_time": "2023-04-04T02:42:44.660562",
          "status": "completed"
        },
        "tags": [],
        "id": "2bd95f99"
      },
      "source": [
        "Split the dataset into training and test sets. 80% will be used for training and 20% will be used for testing."
      ]
    },
    {
      "cell_type": "code",
      "execution_count": null,
      "id": "78ccf511",
      "metadata": {
        "execution": {
          "iopub.execute_input": "2023-04-04T02:42:44.703002Z",
          "iopub.status.busy": "2023-04-04T02:42:44.702268Z",
          "iopub.status.idle": "2023-04-04T02:42:44.711131Z",
          "shell.execute_reply": "2023-04-04T02:42:44.709884Z"
        },
        "papermill": {
          "duration": 0.026885,
          "end_time": "2023-04-04T02:42:44.714027",
          "exception": false,
          "start_time": "2023-04-04T02:42:44.687142",
          "status": "completed"
        },
        "tags": [],
        "id": "78ccf511"
      },
      "outputs": [],
      "source": [
        "from sklearn.model_selection import train_test_split\n",
        "\n",
        "# Split into features and target\n",
        "X = balanced_data['text'].values.tolist()\n",
        "y = balanced_data['airline_sentiment'].values.tolist()\n",
        "\n",
        "# Split into training and test sets\n",
        "X_train, X_test, y_train, y_test = train_test_split(X,y, test_size= 0.2, random_state = 42)"
      ]
    },
    {
      "cell_type": "code",
      "execution_count": null,
      "id": "fb8f4205",
      "metadata": {
        "execution": {
          "iopub.execute_input": "2023-04-04T02:42:44.745226Z",
          "iopub.status.busy": "2023-04-04T02:42:44.744829Z",
          "iopub.status.idle": "2023-04-04T02:42:44.750826Z",
          "shell.execute_reply": "2023-04-04T02:42:44.749908Z"
        },
        "papermill": {
          "duration": 0.024589,
          "end_time": "2023-04-04T02:42:44.753636",
          "exception": false,
          "start_time": "2023-04-04T02:42:44.729047",
          "status": "completed"
        },
        "tags": [],
        "id": "fb8f4205"
      },
      "outputs": [],
      "source": [
        "# Map positive to 1 and negative to 0\n",
        "y_train = [int(sent == 'positive') for sent in y_train]\n",
        "y_test = [int(sent == 'positive') for sent in y_test]"
      ]
    },
    {
      "cell_type": "markdown",
      "id": "2263526b",
      "metadata": {
        "papermill": {
          "duration": 0.014324,
          "end_time": "2023-04-04T02:42:44.782001",
          "exception": false,
          "start_time": "2023-04-04T02:42:44.767677",
          "status": "completed"
        },
        "tags": [],
        "id": "2263526b"
      },
      "source": [
        "## Data Preprocessing\n",
        "\n",
        "The function below takes a tweets as an input and returns a list of cleaned words. The cleaning process includes the following steps:\n",
        "\n",
        "* Removing stack market tickets like `$AAPL`\n",
        "* Removing old style retweet text `RT`\n",
        "* Removing hyperlinks\n",
        "* Removing hashtags, but keeping the word itself\n",
        "* Tokenizing the tweet using the `TweetTokenizer` from the `nltk` module\n",
        "* Removing english stopwords\n",
        "* Removing punctuation marks\n",
        "* Stemming each word using `PorterStemmer`"
      ]
    },
    {
      "cell_type": "code",
      "execution_count": null,
      "id": "bff1b766",
      "metadata": {
        "execution": {
          "iopub.execute_input": "2023-04-04T02:42:44.813048Z",
          "iopub.status.busy": "2023-04-04T02:42:44.812267Z",
          "iopub.status.idle": "2023-04-04T02:42:44.821355Z",
          "shell.execute_reply": "2023-04-04T02:42:44.820110Z"
        },
        "papermill": {
          "duration": 0.027753,
          "end_time": "2023-04-04T02:42:44.823810",
          "exception": false,
          "start_time": "2023-04-04T02:42:44.796057",
          "status": "completed"
        },
        "tags": [],
        "id": "bff1b766"
      },
      "outputs": [],
      "source": [
        "def process_tweet(tweet):\n",
        "    \"\"\"Process tweet function.\n",
        "    Input:\n",
        "        tweet (str): a string containing a tweet\n",
        "    Output:\n",
        "        tweets_clean (list): a list of words containing the processed tweet\n",
        "\n",
        "    \"\"\"\n",
        "    stemmer = PorterStemmer()\n",
        "    stopwords_english = stopwords.words('english')\n",
        "    # remove stock market tickers like $GE\n",
        "    tweet = re.sub(r'\\$\\w*', '', tweet)\n",
        "    # remove old style retweet text \"RT\"\n",
        "    tweet = re.sub(r'^RT[\\s]+', '', tweet)\n",
        "    # remove hyperlinks\n",
        "    tweet = re.sub(r'https?://[^\\s\\n\\r]+', '', tweet)\n",
        "    # remove hashtags\n",
        "    # only removing the hash # sign from the word\n",
        "    tweet = re.sub(r'#', '', tweet)\n",
        "    # tokenize tweets\n",
        "    tokenizer = TweetTokenizer(preserve_case=False, strip_handles=True,\n",
        "                               reduce_len=True)\n",
        "    tweet_tokens = tokenizer.tokenize(tweet)\n",
        "\n",
        "    tweets_clean = []\n",
        "    for word in tweet_tokens:\n",
        "        if (word not in stopwords_english and  # remove stopwords\n",
        "                word not in string.punctuation):  # remove punctuation\n",
        "            # tweets_clean.append(word)\n",
        "            stem_word = stemmer.stem(word)  # stemming word\n",
        "            tweets_clean.append(stem_word)\n",
        "\n",
        "    return tweets_clean"
      ]
    },
    {
      "cell_type": "code",
      "execution_count": null,
      "id": "40af7b6b",
      "metadata": {
        "execution": {
          "iopub.execute_input": "2023-04-04T02:42:44.854271Z",
          "iopub.status.busy": "2023-04-04T02:42:44.853711Z",
          "iopub.status.idle": "2023-04-04T02:42:44.868197Z",
          "shell.execute_reply": "2023-04-04T02:42:44.866772Z"
        },
        "papermill": {
          "duration": 0.032846,
          "end_time": "2023-04-04T02:42:44.870851",
          "exception": false,
          "start_time": "2023-04-04T02:42:44.838005",
          "status": "completed"
        },
        "tags": [],
        "id": "40af7b6b",
        "outputId": "6a91ae61-ea43-4725-afce-eff2cead4684",
        "colab": {
          "base_uri": "https://localhost:8080/"
        }
      },
      "outputs": [
        {
          "output_type": "stream",
          "name": "stdout",
          "text": [
            "Tweet before preprocessing: @JetBlue Another awesome telephone experience with @JetBlue Thank you, Cory! #Greatcustomerservice✈☺\n",
            "Tweet after preprocessing: ['anoth', 'awesom', 'telephon', 'experi', 'thank', 'cori', 'greatcustomerservic', '✈', '☺']\n"
          ]
        }
      ],
      "source": [
        "sample_tweet = X_train[0]\n",
        "print('Tweet before preprocessing: {}'.format(sample_tweet))\n",
        "print('Tweet after preprocessing: {}'.format(process_tweet(sample_tweet)))"
      ]
    },
    {
      "cell_type": "markdown",
      "id": "6b312643",
      "metadata": {
        "papermill": {
          "duration": 0.013815,
          "end_time": "2023-04-04T02:42:44.899112",
          "exception": false,
          "start_time": "2023-04-04T02:42:44.885297",
          "status": "completed"
        },
        "tags": [],
        "id": "6b312643"
      },
      "source": [
        "## Frequency Dictionary\n",
        "\n",
        "Build a frequency dictionary for a list of tweets and their corresponding sentiment labels. The function takes two arguments as inputs:\n",
        "\n",
        "* `tweets`: a list of strings representing tweets.\n",
        "* `ys`: a numpy array or list of integers representing the sentiment labels of each tweet (either 0 or 1).\n",
        "\n",
        "The output of the function is a dictionary called `freqs`, where each key is a tuple containing a word and its sentiment label, and the value is the frequency of occurrence of that word with that sentiment in the input tweets."
      ]
    },
    {
      "cell_type": "code",
      "execution_count": null,
      "id": "5aca9645",
      "metadata": {
        "execution": {
          "iopub.execute_input": "2023-04-04T02:42:44.930680Z",
          "iopub.status.busy": "2023-04-04T02:42:44.929994Z",
          "iopub.status.idle": "2023-04-04T02:42:44.937782Z",
          "shell.execute_reply": "2023-04-04T02:42:44.936621Z"
        },
        "papermill": {
          "duration": 0.026171,
          "end_time": "2023-04-04T02:42:44.940094",
          "exception": false,
          "start_time": "2023-04-04T02:42:44.913923",
          "status": "completed"
        },
        "tags": [],
        "id": "5aca9645"
      },
      "outputs": [],
      "source": [
        "def build_freqs(tweets, ys):\n",
        "    \"\"\"Build frequencies.\n",
        "    Input:\n",
        "        tweets (list): a list of tweets\n",
        "        ys (np.array): an m x 1 array with the sentiment label of each tweet (either 0 or 1)\n",
        "    Output:\n",
        "        freqs (Dictionary): a dictionary mapping each (word, sentiment) pair to its frequency\n",
        "    \"\"\"\n",
        "    # Convert np array to list since zip needs an iterable.\n",
        "    # The squeeze is necessary or the list ends up with one element.\n",
        "    yslist = np.squeeze(ys).tolist()\n",
        "\n",
        "    # Start with an empty dictionary and populate it by looping over all tweets\n",
        "    # and over all processed words in each tweet.\n",
        "    freqs = {}\n",
        "    for y, tweet in zip(yslist, tweets):\n",
        "        for word in process_tweet(tweet):\n",
        "            pair = (word, y)\n",
        "            if pair in freqs:\n",
        "                freqs[pair] += 1\n",
        "            else:\n",
        "                freqs[pair] = 1\n",
        "\n",
        "    return freqs"
      ]
    },
    {
      "cell_type": "code",
      "execution_count": null,
      "id": "a31cc659",
      "metadata": {
        "execution": {
          "iopub.execute_input": "2023-04-04T02:42:44.971160Z",
          "iopub.status.busy": "2023-04-04T02:42:44.970335Z",
          "iopub.status.idle": "2023-04-04T02:42:47.289113Z",
          "shell.execute_reply": "2023-04-04T02:42:47.287798Z"
        },
        "papermill": {
          "duration": 2.337236,
          "end_time": "2023-04-04T02:42:47.291815",
          "exception": false,
          "start_time": "2023-04-04T02:42:44.954579",
          "status": "completed"
        },
        "tags": [],
        "id": "a31cc659"
      },
      "outputs": [],
      "source": [
        "freqs = build_freqs(X_train, y_train)"
      ]
    },
    {
      "cell_type": "markdown",
      "id": "55d39ec4",
      "metadata": {
        "papermill": {
          "duration": 0.013703,
          "end_time": "2023-04-04T02:42:47.319708",
          "exception": false,
          "start_time": "2023-04-04T02:42:47.306005",
          "status": "completed"
        },
        "tags": [],
        "id": "55d39ec4"
      },
      "source": [
        "## Naive Bayes\n",
        "\n",
        "Naive Bayes is a probabilistic machine learning algorithm used for classification tasks. It assumes that the features are conditionally independent and uses Bayes' theorem to calculate the posterior probability of each class given the observed features. The class with the highest posterior probability is chosen as the predicted class label for the input.\n",
        "\n",
        "The equation for Naive Bayes is:\n",
        "\n",
        "$$P(y | x) = \\frac{ P(x | y)  P(y) }{P(x)}$$\n"
      ]
    },
    {
      "cell_type": "markdown",
      "id": "74186100",
      "metadata": {
        "papermill": {
          "duration": 0.013866,
          "end_time": "2023-04-04T02:42:47.347846",
          "exception": false,
          "start_time": "2023-04-04T02:42:47.333980",
          "status": "completed"
        },
        "tags": [],
        "id": "74186100"
      },
      "source": [
        "## Train Naive Bayes\n",
        "\n",
        "Here are the steps required to train a Naive Bayes Classifier from scratch:\n",
        "\n",
        "* Identify the number of classes we have. For our example it is 2.\n",
        "* Create a probability for each class. $P(T_{pos})$ is the probability that the tweet is positive and $P(T_{neg})$ is the probability that the tweet is negative\n",
        "\n",
        "These values can be obtained with the following formulas:\n",
        "\n",
        "$$P(T_{pos}) = \\frac{T_{pos}}{T}$$\n",
        "$$P(T_{neg}) = \\frac{T_{neg}}{T}$$\n",
        "\n",
        "Where $T$ is the total number of tweets and $T_{pos}$ and $T_{neg}$ are the total number of positive tweets and the total number of negative tweets respectively."
      ]
    },
    {
      "cell_type": "code",
      "execution_count": null,
      "id": "85915f2d",
      "metadata": {
        "execution": {
          "iopub.execute_input": "2023-04-04T02:42:47.378066Z",
          "iopub.status.busy": "2023-04-04T02:42:47.377254Z",
          "iopub.status.idle": "2023-04-04T02:42:47.384818Z",
          "shell.execute_reply": "2023-04-04T02:42:47.383594Z"
        },
        "papermill": {
          "duration": 0.02503,
          "end_time": "2023-04-04T02:42:47.386952",
          "exception": false,
          "start_time": "2023-04-04T02:42:47.361922",
          "status": "completed"
        },
        "tags": [],
        "id": "85915f2d",
        "colab": {
          "base_uri": "https://localhost:8080/"
        },
        "outputId": "1e1992a8-d7e4-4bbb-cdb9-042ca83a6583"
      },
      "outputs": [
        {
          "output_type": "stream",
          "name": "stdout",
          "text": [
            "Total number of tweets: 3780\n",
            "Number of positive tweets: 1877\n",
            "Number of negative tweets: 1903\n"
          ]
        }
      ],
      "source": [
        "# Calculate the number of tweets, the number of positive tweets, the number of negative tweets\n",
        "T = len(X_train)\n",
        "T_pos = y_train.count(1)\n",
        "T_neg = y_train.count(0)\n",
        "\n",
        "print('Total number of tweets: {}'.format(T))\n",
        "print('Number of positive tweets: {}'.format(T_pos))\n",
        "print('Number of negative tweets: {}'.format(T_neg))"
      ]
    },
    {
      "cell_type": "code",
      "execution_count": null,
      "id": "24ef4d22",
      "metadata": {
        "execution": {
          "iopub.execute_input": "2023-04-04T02:42:47.417516Z",
          "iopub.status.busy": "2023-04-04T02:42:47.416755Z",
          "iopub.status.idle": "2023-04-04T02:42:47.422572Z",
          "shell.execute_reply": "2023-04-04T02:42:47.421721Z"
        },
        "papermill": {
          "duration": 0.023825,
          "end_time": "2023-04-04T02:42:47.424798",
          "exception": false,
          "start_time": "2023-04-04T02:42:47.400973",
          "status": "completed"
        },
        "tags": [],
        "id": "24ef4d22",
        "colab": {
          "base_uri": "https://localhost:8080/"
        },
        "outputId": "79b98c3b-27e1-4f84-ae92-1ee7b749a2cb"
      },
      "outputs": [
        {
          "output_type": "stream",
          "name": "stdout",
          "text": [
            "Probability of positive class: 0.49656084656084654\n",
            "Probability of negative class: 0.5034391534391535\n"
          ]
        }
      ],
      "source": [
        "# Calculate the probabilities for each class\n",
        "Prob_T_pos = T_pos/T\n",
        "Prob_T_neg = T_neg/T\n",
        "\n",
        "print('Probability of positive class: {}'.format(Prob_T_pos))\n",
        "print('Probability of negative class: {}'.format(Prob_T_neg))"
      ]
    },
    {
      "cell_type": "markdown",
      "id": "e9d4ba63",
      "metadata": {
        "papermill": {
          "duration": 0.013908,
          "end_time": "2023-04-04T02:42:47.453550",
          "exception": false,
          "start_time": "2023-04-04T02:42:47.439642",
          "status": "completed"
        },
        "tags": [],
        "id": "e9d4ba63"
      },
      "source": [
        "#### Prior and Logprior\n",
        "\n",
        "The underlying probability in the target population of a tweet being positive or negative is represented by the prior probability. Essentially, if we were to randomly select a tweet from the population set without any prior knowledge, what would be the probability of it being positive versus negative? This probability is referred to as the \"prior\".\n",
        "\n",
        "The prior is the ratio of probabilites\n",
        "\n",
        "$$\\frac{P(T_{pos})}{P(T_{neg})}$$\n",
        "\n",
        "We take the log of the prior to rescale it. This is called the logprior.\n",
        "\n",
        "$$logprior = log{\\frac{P(T_{pos})}{P(T_{neg})}}$$"
      ]
    },
    {
      "cell_type": "markdown",
      "id": "6b64288c",
      "metadata": {
        "papermill": {
          "duration": 0.014383,
          "end_time": "2023-04-04T02:42:47.482572",
          "exception": false,
          "start_time": "2023-04-04T02:42:47.468189",
          "status": "completed"
        },
        "tags": [],
        "id": "6b64288c"
      },
      "source": [
        "#### Positive and Negative Probability of a Word\n",
        "\n",
        "$$ P(W_{pos}) = \\frac{freq_{pos} + 1}{N_{pos} + V}$$\n",
        "$$ P(W_{neg}) = \\frac{freq_{neg} + 1}{N_{neg} + V}$$\n",
        "\n",
        "* Where $V$ is the number of unique words that appear in `freqs`\n",
        "* $N_{pos}$ and $N_{neg}$ are the total number of positive and negative words for all tweets respectively"
      ]
    },
    {
      "cell_type": "code",
      "execution_count": null,
      "id": "e20cc1ac",
      "metadata": {
        "execution": {
          "iopub.execute_input": "2023-04-04T02:42:47.513118Z",
          "iopub.status.busy": "2023-04-04T02:42:47.512678Z",
          "iopub.status.idle": "2023-04-04T02:42:47.520581Z",
          "shell.execute_reply": "2023-04-04T02:42:47.519356Z"
        },
        "papermill": {
          "duration": 0.026086,
          "end_time": "2023-04-04T02:42:47.522956",
          "exception": false,
          "start_time": "2023-04-04T02:42:47.496870",
          "status": "completed"
        },
        "tags": [],
        "id": "e20cc1ac",
        "outputId": "400270f0-8e5f-4a3d-9f2c-12cbd4a3416a",
        "colab": {
          "base_uri": "https://localhost:8080/"
        }
      },
      "outputs": [
        {
          "output_type": "stream",
          "name": "stdout",
          "text": [
            "Number of unique words: 5155\n"
          ]
        }
      ],
      "source": [
        "# Calculate the number of unique words V\n",
        "vocab = [key[0] for key in freqs.keys()]\n",
        "V = len(set(vocab))\n",
        "\n",
        "print('Number of unique words: {}'.format(V))"
      ]
    },
    {
      "cell_type": "code",
      "execution_count": null,
      "id": "4bb2c4cf",
      "metadata": {
        "execution": {
          "iopub.execute_input": "2023-04-04T02:42:47.553689Z",
          "iopub.status.busy": "2023-04-04T02:42:47.552817Z",
          "iopub.status.idle": "2023-04-04T02:42:47.563475Z",
          "shell.execute_reply": "2023-04-04T02:42:47.561797Z"
        },
        "papermill": {
          "duration": 0.028567,
          "end_time": "2023-04-04T02:42:47.565771",
          "exception": false,
          "start_time": "2023-04-04T02:42:47.537204",
          "status": "completed"
        },
        "tags": [],
        "id": "4bb2c4cf",
        "outputId": "734ceddb-da22-4c87-831f-20f8144a7ac2",
        "colab": {
          "base_uri": "https://localhost:8080/"
        }
      },
      "outputs": [
        {
          "output_type": "stream",
          "name": "stdout",
          "text": [
            "Number of positive words for all tweets: 14598\n",
            "Number of negative words for all tweets: 19552\n"
          ]
        }
      ],
      "source": [
        "# Calculate N_pos, N_neg\n",
        "N_pos = 0\n",
        "N_neg = 0\n",
        "\n",
        "for pair in freqs.keys():\n",
        "    # if label is positive\n",
        "    if pair[1] > 0:\n",
        "        N_pos += freqs[pair]\n",
        "    # if label is negative\n",
        "    else:\n",
        "        N_neg += freqs[pair]\n",
        "\n",
        "print(\"Number of positive words for all tweets: {}\".format(N_pos))\n",
        "print(\"Number of negative words for all tweets: {}\".format(N_neg))"
      ]
    },
    {
      "cell_type": "code",
      "execution_count": null,
      "id": "625b2566",
      "metadata": {
        "execution": {
          "iopub.execute_input": "2023-04-04T02:42:47.596464Z",
          "iopub.status.busy": "2023-04-04T02:42:47.596012Z",
          "iopub.status.idle": "2023-04-04T02:42:47.604669Z",
          "shell.execute_reply": "2023-04-04T02:42:47.603092Z"
        },
        "papermill": {
          "duration": 0.026666,
          "end_time": "2023-04-04T02:42:47.606798",
          "exception": false,
          "start_time": "2023-04-04T02:42:47.580132",
          "status": "completed"
        },
        "tags": [],
        "id": "625b2566",
        "colab": {
          "base_uri": "https://localhost:8080/"
        },
        "outputId": "8c4c8ca1-e7b7-4d53-b86f-a5c4a88803d8"
      },
      "outputs": [
        {
          "output_type": "stream",
          "name": "stdout",
          "text": [
            "First Word in vocab: anoth\n",
            "Positive frequency of anoth is: 24\n",
            "Negative frequency of anoth is: 53\n",
            "The probability that the word: anoth is positive is: 0.0012656305371336\n",
            "The probability that the word: anoth is negative is: 0.002185615412636095\n"
          ]
        }
      ],
      "source": [
        "# Calculation for positive and negative probability of a word. We will do it for the first word in the vocab\n",
        "print('First Word in vocab: {}'.format(vocab[0]))\n",
        "\n",
        "# get positive and negative frequency of word\n",
        "freq_pos = freqs.get((vocab[0],1), 0)\n",
        "freq_neg = freqs.get((vocab[0],0), 0)\n",
        "\n",
        "print('Positive frequency of {} is: {}'.format(vocab[0], freq_pos))\n",
        "print('Negative frequency of {} is: {}'.format(vocab[0], freq_neg))\n",
        "\n",
        "# calculate the probability that the word is positive and negative\n",
        "p_w_pos = (freq_pos + 1)/(N_pos + V)\n",
        "p_w_neg = (freq_neg + 1)/(N_neg + V)\n",
        "\n",
        "print(\"The probability that the word: {} is positive is: {}\".format(vocab[0], p_w_pos))\n",
        "print(\"The probability that the word: {} is negative is: {}\".format(vocab[0], p_w_neg))"
      ]
    },
    {
      "cell_type": "markdown",
      "id": "b3b9842f",
      "metadata": {
        "papermill": {
          "duration": 0.014011,
          "end_time": "2023-04-04T02:42:47.635153",
          "exception": false,
          "start_time": "2023-04-04T02:42:47.621142",
          "status": "completed"
        },
        "tags": [],
        "id": "b3b9842f"
      },
      "source": [
        "#### Log Likelihood\n",
        "\n",
        "To compute the loglikelihood of a word, we use the following equation:\n",
        "\n",
        "$$\\text{loglikelihood} = log{\\frac{P(W_{pos})}{P(W_{neg})}}$$"
      ]
    },
    {
      "cell_type": "code",
      "execution_count": null,
      "id": "65e1a7da",
      "metadata": {
        "execution": {
          "iopub.execute_input": "2023-04-04T02:42:47.665643Z",
          "iopub.status.busy": "2023-04-04T02:42:47.665253Z",
          "iopub.status.idle": "2023-04-04T02:42:47.671320Z",
          "shell.execute_reply": "2023-04-04T02:42:47.670110Z"
        },
        "papermill": {
          "duration": 0.023941,
          "end_time": "2023-04-04T02:42:47.673393",
          "exception": false,
          "start_time": "2023-04-04T02:42:47.649452",
          "status": "completed"
        },
        "tags": [],
        "id": "65e1a7da",
        "colab": {
          "base_uri": "https://localhost:8080/"
        },
        "outputId": "ef1ba577-a72e-4c72-a243-4a8acc83732c"
      },
      "outputs": [
        {
          "output_type": "stream",
          "name": "stdout",
          "text": [
            "The log likelihood of the word: anoth is: -0.5463269959487129\n"
          ]
        }
      ],
      "source": [
        "# calculate the log likelihood of the word\n",
        "loglikelihood = np.log(p_w_pos/ p_w_neg)\n",
        "\n",
        "print(\"The log likelihood of the word: {} is: {}\".format(vocab[0], loglikelihood))"
      ]
    },
    {
      "cell_type": "markdown",
      "id": "7c429074",
      "metadata": {
        "papermill": {
          "duration": 0.014022,
          "end_time": "2023-04-04T02:42:47.701707",
          "exception": false,
          "start_time": "2023-04-04T02:42:47.687685",
          "status": "completed"
        },
        "tags": [],
        "id": "7c429074"
      },
      "source": [
        "## Steps to Train Naive Bayes Model\n",
        "\n",
        "Put everything together\n",
        "\n",
        "Given a freqs dictionary, `X_train` (list of tweets), `y_train` (list of labels), implement a Naive Bayes Classifier by completing the following steps:\n",
        "\n",
        "* Calculate $V$: the number of unique words that appear in the `freqs` dictionary.\n",
        "* Calculate $freq_{pos}$ and $freq_{neg}$ which is the positive and negative frequency of each word respectively.\n",
        "* Calculate $N_{pos}$ and $N_{neg}$ which is the total number of positive words and total number of negative words respectively.\n",
        "* Calculate $T$, $T_{pos}$, and $T_{neg}$ which is the total number of tweets, the number of positive tweets, and the number of negative tweets respectively.\n",
        "* Calculate logprior\n",
        "* Calculate log likelihood\n",
        "* Store the log likelihood of each word"
      ]
    },
    {
      "cell_type": "code",
      "execution_count": null,
      "id": "6419f6b9",
      "metadata": {
        "execution": {
          "iopub.execute_input": "2023-04-04T02:42:47.732375Z",
          "iopub.status.busy": "2023-04-04T02:42:47.731936Z",
          "iopub.status.idle": "2023-04-04T02:42:47.743461Z",
          "shell.execute_reply": "2023-04-04T02:42:47.742077Z"
        },
        "papermill": {
          "duration": 0.029661,
          "end_time": "2023-04-04T02:42:47.745775",
          "exception": false,
          "start_time": "2023-04-04T02:42:47.716114",
          "status": "completed"
        },
        "tags": [],
        "id": "6419f6b9"
      },
      "outputs": [],
      "source": [
        "def train_naive(freqs, X_train, y_train):\n",
        "    \"\"\"\n",
        "    Inputs:\n",
        "        freqs: dictionary {(word, label): count}\n",
        "        X_train: list of tweets\n",
        "        y_train: list of labels\n",
        "    Outputs:\n",
        "        logprior: the log prior value\n",
        "        loglikelihood: log likelihood of the Naive Bayes Equation.\n",
        "    \"\"\"\n",
        "\n",
        "    loglikelihood = {}\n",
        "    logprior = 0\n",
        "\n",
        "    # Calculate the number of unique words V\n",
        "    vocab = [key[0] for key in freqs.keys()]\n",
        "    V = len(set(vocab))\n",
        "\n",
        "    # Calculate N_pos, N_neg\n",
        "    N_pos = 0\n",
        "    N_neg = 0\n",
        "\n",
        "    for pair in freqs.keys():\n",
        "        # if label is positive\n",
        "        if pair[1] > 0:\n",
        "            N_pos += freqs[pair]\n",
        "        # if label is negative\n",
        "        else:\n",
        "            N_neg += freqs[pair]\n",
        "\n",
        "    # Calculate the number of tweets, the number of positive tweets, the number of negative tweets\n",
        "    T = len(X_train)\n",
        "    T_pos = y_train.count(1)\n",
        "    T_neg = y_train.count(0)\n",
        "\n",
        "    # Calculate the logprior\n",
        "    logprior = np.log(T_pos) - np.log(T_neg)\n",
        "\n",
        "    # for each word in the vocabulary\n",
        "    for word in vocab:\n",
        "        # get positive and negative frequency of word\n",
        "        freq_pos = freqs.get((word,1), 0)\n",
        "        freq_neg = freqs.get((word,0), 0)\n",
        "\n",
        "        # calculate the probability that the word is positive and negative\n",
        "        p_w_pos = (freq_pos + 1)/(N_pos + V)\n",
        "        p_w_neg = (freq_neg + 1)/(N_neg + V)\n",
        "\n",
        "        # calculate the log likelihood of the word\n",
        "        loglikelihood[word] = np.log(p_w_pos/ p_w_neg)\n",
        "\n",
        "    return logprior, loglikelihood"
      ]
    },
    {
      "cell_type": "code",
      "execution_count": null,
      "id": "ea7f6dc5",
      "metadata": {
        "execution": {
          "iopub.execute_input": "2023-04-04T02:42:47.777414Z",
          "iopub.status.busy": "2023-04-04T02:42:47.776208Z",
          "iopub.status.idle": "2023-04-04T02:42:47.797726Z",
          "shell.execute_reply": "2023-04-04T02:42:47.796442Z"
        },
        "papermill": {
          "duration": 0.039893,
          "end_time": "2023-04-04T02:42:47.800284",
          "exception": false,
          "start_time": "2023-04-04T02:42:47.760391",
          "status": "completed"
        },
        "tags": [],
        "id": "ea7f6dc5"
      },
      "outputs": [],
      "source": [
        "logprior, loglikelihood = train_naive(freqs, X_train, y_train)"
      ]
    },
    {
      "cell_type": "code",
      "execution_count": null,
      "id": "8e315511",
      "metadata": {
        "execution": {
          "iopub.execute_input": "2023-04-04T02:42:47.833007Z",
          "iopub.status.busy": "2023-04-04T02:42:47.831707Z",
          "iopub.status.idle": "2023-04-04T02:42:47.838616Z",
          "shell.execute_reply": "2023-04-04T02:42:47.837031Z"
        },
        "papermill": {
          "duration": 0.025583,
          "end_time": "2023-04-04T02:42:47.840826",
          "exception": false,
          "start_time": "2023-04-04T02:42:47.815243",
          "status": "completed"
        },
        "tags": [],
        "id": "8e315511",
        "colab": {
          "base_uri": "https://localhost:8080/"
        },
        "outputId": "d632a7a9-f9d3-44da-b534-52bda7b9fceb"
      },
      "outputs": [
        {
          "output_type": "stream",
          "name": "stdout",
          "text": [
            "Calculate Logprior: -0.01375683070964051\n"
          ]
        }
      ],
      "source": [
        "print(\"Calculate Logprior: {}\".format(logprior))"
      ]
    },
    {
      "cell_type": "code",
      "execution_count": null,
      "id": "fb39e820",
      "metadata": {
        "execution": {
          "iopub.execute_input": "2023-04-04T02:42:47.871456Z",
          "iopub.status.busy": "2023-04-04T02:42:47.871011Z",
          "iopub.status.idle": "2023-04-04T02:42:47.878441Z",
          "shell.execute_reply": "2023-04-04T02:42:47.876636Z"
        },
        "papermill": {
          "duration": 0.025153,
          "end_time": "2023-04-04T02:42:47.880588",
          "exception": false,
          "start_time": "2023-04-04T02:42:47.855435",
          "status": "completed"
        },
        "tags": [],
        "id": "fb39e820",
        "colab": {
          "base_uri": "https://localhost:8080/"
        },
        "outputId": "6840961c-1420-405f-8261-048e22307aaf"
      },
      "outputs": [
        {
          "output_type": "stream",
          "name": "stdout",
          "text": [
            "anoth -0.5463269959487129\n",
            "awesom 3.996542163841999\n",
            "telephon 0.22378122574736076\n",
            "experi 0.10599819009097727\n",
            "thank 2.6620620341953054\n"
          ]
        }
      ],
      "source": [
        "# Print the first five key-value pairs of loglikelihood\n",
        "count = 0\n",
        "for key, value in loglikelihood.items():\n",
        "    if count < 5:\n",
        "        print(key, value)\n",
        "        count += 1\n",
        "    else:\n",
        "        break"
      ]
    },
    {
      "cell_type": "markdown",
      "id": "a9790e3e",
      "metadata": {
        "papermill": {
          "duration": 0.013922,
          "end_time": "2023-04-04T02:42:47.908833",
          "exception": false,
          "start_time": "2023-04-04T02:42:47.894911",
          "status": "completed"
        },
        "tags": [],
        "id": "a9790e3e"
      },
      "source": [
        "## Predictions with Naive Bayes\n",
        "\n",
        "Make predictions using the naive bayes classifier.\n",
        "\n",
        "For each tweet, sum up the loglikelihood of each word in the tweet, add the logprior to the sum. If the final value is positive, then the tweet is classified as positive. If the final value is negative, then the tweet is classified as negative.\n",
        "\n",
        "$$ p = logprior + \\sum_i^N (loglikelihood_i)$$"
      ]
    },
    {
      "cell_type": "code",
      "execution_count": null,
      "id": "1dc66133",
      "metadata": {
        "execution": {
          "iopub.execute_input": "2023-04-04T02:42:47.939989Z",
          "iopub.status.busy": "2023-04-04T02:42:47.939569Z",
          "iopub.status.idle": "2023-04-04T02:42:47.946290Z",
          "shell.execute_reply": "2023-04-04T02:42:47.945102Z"
        },
        "papermill": {
          "duration": 0.025152,
          "end_time": "2023-04-04T02:42:47.948896",
          "exception": false,
          "start_time": "2023-04-04T02:42:47.923744",
          "status": "completed"
        },
        "tags": [],
        "id": "1dc66133"
      },
      "outputs": [],
      "source": [
        "def predict_naive(tweet, logprior, loglikelihood):\n",
        "    \"\"\"\n",
        "    Predict the sentiment of tweet\n",
        "\n",
        "    Inputs:\n",
        "        tweet: string\n",
        "        logprior: number\n",
        "        loglikelihood: dictionary {'word': loglikelihood_value}\n",
        "    Outputs:\n",
        "        p: sum of all the loglikelihood of the words that appear in the tweet plus the logprior value.\n",
        "    \"\"\"\n",
        "    # process tweet to return list of cleaned words\n",
        "    words = process_tweet(tweet)\n",
        "\n",
        "    # intialize the probability to 0\n",
        "    p = 0\n",
        "\n",
        "    # add the logprior\n",
        "    p += logprior\n",
        "\n",
        "    # iterate over each word in tweet\n",
        "    for word in words:\n",
        "        # check if word in loglikelihood dictionary\n",
        "        if word in loglikelihood:\n",
        "            # add the loglikelihood value of the word to the probability\n",
        "            p += loglikelihood[word]\n",
        "\n",
        "    return p"
      ]
    },
    {
      "cell_type": "code",
      "execution_count": null,
      "id": "cfc6fffe",
      "metadata": {
        "execution": {
          "iopub.execute_input": "2023-04-04T02:42:47.980110Z",
          "iopub.status.busy": "2023-04-04T02:42:47.979723Z",
          "iopub.status.idle": "2023-04-04T02:42:47.987212Z",
          "shell.execute_reply": "2023-04-04T02:42:47.986309Z"
        },
        "papermill": {
          "duration": 0.025848,
          "end_time": "2023-04-04T02:42:47.989580",
          "exception": false,
          "start_time": "2023-04-04T02:42:47.963732",
          "status": "completed"
        },
        "tags": [],
        "id": "cfc6fffe",
        "colab": {
          "base_uri": "https://localhost:8080/"
        },
        "outputId": "795ac30c-9297-4815-fe5e-d5f7b4b0c935"
      },
      "outputs": [
        {
          "output_type": "execute_result",
          "data": {
            "text/plain": [
              "5.450723006934165"
            ]
          },
          "metadata": {},
          "execution_count": 30
        }
      ],
      "source": [
        "# test on some random string\n",
        "random_test = 'I am very happy today :)'\n",
        "predict_naive(random_test, logprior, loglikelihood)"
      ]
    },
    {
      "cell_type": "markdown",
      "id": "0dfbd4de",
      "metadata": {
        "papermill": {
          "duration": 0.014375,
          "end_time": "2023-04-04T02:42:48.018990",
          "exception": false,
          "start_time": "2023-04-04T02:42:48.004615",
          "status": "completed"
        },
        "tags": [],
        "id": "0dfbd4de"
      },
      "source": [
        "## Evaluate Naive Bayes Model\n",
        "\n",
        "Evaluate the performance of the Naive Bayes model on the Test set using accuracy as the evaluation metric."
      ]
    },
    {
      "cell_type": "code",
      "execution_count": null,
      "id": "df5be645",
      "metadata": {
        "execution": {
          "iopub.execute_input": "2023-04-04T02:42:48.050050Z",
          "iopub.status.busy": "2023-04-04T02:42:48.049644Z",
          "iopub.status.idle": "2023-04-04T02:42:48.639871Z",
          "shell.execute_reply": "2023-04-04T02:42:48.638834Z"
        },
        "papermill": {
          "duration": 0.608823,
          "end_time": "2023-04-04T02:42:48.642352",
          "exception": false,
          "start_time": "2023-04-04T02:42:48.033529",
          "status": "completed"
        },
        "tags": [],
        "id": "df5be645"
      },
      "outputs": [],
      "source": [
        "# initialize prediction list\n",
        "y_preds = []\n",
        "\n",
        "for tweet in X_test:\n",
        "    # if prediction is positive, append 1 to y_preds\n",
        "    if predict_naive(tweet, logprior, loglikelihood) > 0:\n",
        "        y_preds.append(1)\n",
        "    # if prediction is negative, append 0 to y_preds\n",
        "    else:\n",
        "        y_preds.append(0)"
      ]
    },
    {
      "cell_type": "code",
      "execution_count": null,
      "id": "13025951",
      "metadata": {
        "execution": {
          "iopub.execute_input": "2023-04-04T02:42:48.673894Z",
          "iopub.status.busy": "2023-04-04T02:42:48.672976Z",
          "iopub.status.idle": "2023-04-04T02:42:48.680622Z",
          "shell.execute_reply": "2023-04-04T02:42:48.679083Z"
        },
        "papermill": {
          "duration": 0.025963,
          "end_time": "2023-04-04T02:42:48.683099",
          "exception": false,
          "start_time": "2023-04-04T02:42:48.657136",
          "status": "completed"
        },
        "tags": [],
        "id": "13025951",
        "colab": {
          "base_uri": "https://localhost:8080/"
        },
        "outputId": "513e914b-04fc-4158-903d-5113bca76537"
      },
      "outputs": [
        {
          "output_type": "stream",
          "name": "stdout",
          "text": [
            "The accuracy of the Naives Bayes Model is: 0.879492600422833\n"
          ]
        }
      ],
      "source": [
        "# calculate the accuracy\n",
        "from sklearn.metrics import accuracy_score\n",
        "\n",
        "y_test = y_test\n",
        "\n",
        "accuracy = accuracy_score(y_test, y_preds)\n",
        "\n",
        "print(\"The accuracy of the Naives Bayes Model is: {}\".format(accuracy))"
      ]
    }
  ],
  "metadata": {
    "kernelspec": {
      "display_name": "Python 3",
      "language": "python",
      "name": "python3"
    },
    "language_info": {
      "codemirror_mode": {
        "name": "ipython",
        "version": 3
      },
      "file_extension": ".py",
      "mimetype": "text/x-python",
      "name": "python",
      "nbconvert_exporter": "python",
      "pygments_lexer": "ipython3",
      "version": "3.7.12"
    },
    "papermill": {
      "default_parameters": {},
      "duration": 18.395102,
      "end_time": "2023-04-04T02:42:49.549614",
      "environment_variables": {},
      "exception": null,
      "input_path": "__notebook__.ipynb",
      "output_path": "__notebook__.ipynb",
      "parameters": {},
      "start_time": "2023-04-04T02:42:31.154512",
      "version": "2.4.0"
    },
    "colab": {
      "provenance": [],
      "include_colab_link": true
    }
  },
  "nbformat": 4,
  "nbformat_minor": 5
}